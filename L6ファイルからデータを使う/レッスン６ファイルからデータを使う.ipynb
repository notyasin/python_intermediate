{
 "cells": [
  {
   "cell_type": "markdown",
   "metadata": {},
   "source": [
    "# レッスン６ ファイルと計算\n",
    "\n",
    "このレッスンで、ファイルに保存されたデータを取り出して、計算をやります。\n",
    "\n",
    "ファイル内容を取り出すため、'r'モード、あるいは**読み込みモード**を使わないといけない。レッスン５を開いて参考してもいいです。"
   ]
  },
  {
   "cell_type": "markdown",
   "metadata": {},
   "source": [
    "**Step 1:**\n",
    "\n",
    "この授業でnumbers.txtを既に用意されていて、8個の数値が入っています。\n",
    "\n",
    "Pythonスクリプトでは、open() 関数を使ってファイルを開き、数字をNumPy配列に抽出します。"
   ]
  },
  {
   "cell_type": "code",
   "execution_count": 3,
   "metadata": {},
   "outputs": [
    {
     "name": "stdout",
     "output_type": "stream",
     "text": [
      "NumPy配列: [6434.   43.   65.   87.   34.   98.  323. 9230.]\n"
     ]
    }
   ],
   "source": [
    "import numpy as np\n",
    "\n",
    "# ファイルを 'r' モードでオープンする\n",
    "file = open('numbers.txt', 'r')\n",
    "\n",
    "# readlines() を使ってファイルの内容を読み込む\n",
    "lines = file.readlines()\n",
    "\n",
    "# 空の NumPy 配列を作成する\n",
    "numbers_array = np.array([])\n",
    "\n",
    "# 各行に対して繰り返す\n",
    "for line in lines:\n",
    "    # 先頭と末尾の空白文字を取り除き、整数に変換する\n",
    "    number = int(line.strip())\n",
    "\n",
    "    # 数字を NumPy 配列に追加する\n",
    "    numbers_array = np.append(numbers_array, number)\n",
    "\n",
    "# ファイルをクローズする\n",
    "file.close()\n",
    "\n",
    "# NumPy 配列を出力する\n",
    "print(\"NumPy配列:\", numbers_array)"
   ]
  },
  {
   "cell_type": "markdown",
   "metadata": {},
   "source": [
    "**Step2:**\n",
    "\n",
    "抽出した数字をNumPy配列に格納したので、それらに対して様々な数学的な演算を行うことができます。\n",
    "\n",
    "例として、足し算、引き算、平均値の計算を行いましょう。覚えていないなら、前の授業に参考してみましょう。"
   ]
  },
  {
   "cell_type": "code",
   "execution_count": 4,
   "metadata": {},
   "outputs": [
    {
     "name": "stdout",
     "output_type": "stream",
     "text": [
      "合計: 16314.0\n",
      "差: 9196.0\n",
      "平均: 2039.25\n"
     ]
    }
   ],
   "source": [
    "# 数学的な演算を行う\n",
    "sum_result = np.sum(numbers_array)\n",
    "difference_result = np.max(numbers_array) - np.min(numbers_array)\n",
    "mean_result = np.mean(numbers_array)\n",
    "\n",
    "# 結果を出力する\n",
    "print(\"合計:\", sum_result)\n",
    "print(\"差:\", difference_result)\n",
    "print(\"平均:\", mean_result)"
   ]
  },
  {
   "cell_type": "markdown",
   "metadata": {},
   "source": [
    "## 課題：\n",
    "\n",
    "1. 自分でnumbers2.txtファイルを```open(\"numbers2.txt\", \"w\")```作成し、３数値を書いてください。（書き込みの練習）\n",
    "2. 上に見せたようにその数値を取り出して、Numpy配列にAppend（追加）してください。\n",
    "3. チャレンジ：上のStep2を行ってみてください"
   ]
  },
  {
   "cell_type": "code",
   "execution_count": null,
   "metadata": {},
   "outputs": [],
   "source": []
  }
 ],
 "metadata": {
  "kernelspec": {
   "display_name": "Python 3 (ipykernel)",
   "language": "python",
   "name": "python3"
  },
  "language_info": {
   "codemirror_mode": {
    "name": "ipython",
    "version": 3
   },
   "file_extension": ".py",
   "mimetype": "text/x-python",
   "name": "python",
   "nbconvert_exporter": "python",
   "pygments_lexer": "ipython3",
   "version": "3.11.2"
  }
 },
 "nbformat": 4,
 "nbformat_minor": 4
}
