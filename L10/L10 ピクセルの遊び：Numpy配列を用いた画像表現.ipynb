{
 "cells": [
  {
   "cell_type": "markdown",
   "id": "483b2bea",
   "metadata": {},
   "source": [
    "# L10:\n",
    "\n",
    "## ピクセルの遊び：Numpy配列を用いた画像表現\n",
    "\n",
    "## 授業概要:\n",
    "この授業では、Numpy配列を活用して画像を操作し、表現する方法を学びます。生徒たちは画像がどのようにピクセルで構成されているかを理解し、Numpyを使用して画像データをさまざまな方法で操作する楽しさを体験します。\n",
    "\n",
    "## 授業目標:\n",
    "授業終了時に、生徒は以下ができるようになります:\n",
    "\n",
    "* 画像がどのようにピクセルで構成されているかを理解する。\n",
    "* Numpy配列を使用して画像データを操作し、変換する方法を学ぶ。\n",
    "* 画像処理の基本的な手法をNumpyを通じて実際に試してみる。\n",
    "\n",
    "## 授業内容:\n",
    "\n",
    "1. 画像の基本概念:\n",
    "    * 画像がどのようにピクセルから構成されているかを説明する。\n",
    "    * 画像処理の重要性と実世界での応用について説明する。\n",
    "    \n",
    "    \n",
    "2. Numpyを使った画像操作:\n",
    "    * 画像をNumpy配列として読み込む方法を学ぶ。\n",
    "    * Numpy配列を使用して画像を回転、リサイズ、反転する方法を紹介する。\n",
    "\n",
    "    実習: 画像の回転と反転\n",
    "    <br>生徒たちはNumpyを使用して画像を回転させたり、上下反転させたりする実習を行います。"
   ]
  },
  {
   "cell_type": "code",
   "execution_count": 10,
   "id": "c9bf0799",
   "metadata": {},
   "outputs": [],
   "source": [
    "import numpy as np\n",
    "from PIL import Image\n",
    "\n",
    "# 画像の読み込み\n",
    "image = Image.open('image.jpeg')\n",
    "image_array = np.array(image)\n",
    "\n",
    "# 画像を90度回転\n",
    "rotated_image_array = np.rot90(image_array)\n",
    "\n",
    "# 画像を上下反転\n",
    "flipped_image_array = np.flipud(image_array)\n",
    "\n",
    "# 配列から画像に変化すること\n",
    "rotated_image = Image.fromarray(rotated_image_array)\n",
    "flipped_image = Image.fromarray(flipped_image_array)\n",
    "\n",
    "# 表示\n",
    "rotated_image.show()\n",
    "flipped_image.show()\n",
    "# 保存\n",
    "rotated_image.save('rotated_image.jpeg')\n",
    "flipped_image.save('flipped_image.jpeg')"
   ]
  },
  {
   "cell_type": "markdown",
   "id": "c48cd0d8",
   "metadata": {},
   "source": [
    "⚠️⚠️フォルダー内に変化された写真を確認ください。"
   ]
  },
  {
   "cell_type": "markdown",
   "id": "75fcbab5",
   "metadata": {},
   "source": [
    "## 演習: 画像回転のチャレンジ\n",
    "\n",
    "### 課題:\n",
    "この演習では、生徒たちはNumpy配列を使用して画像を回転させる方法を練習します。指定した角度で画像を回転させる関数を実装します。\n",
    "\n",
    "### 課題内容:\n",
    "1. 画像ファイル（例: 'image.jpg'）をNumpy配列として読み込みます。\n",
    "2. ```rotate_image``` という関数を実装します。この関数は2つの引数を取ります: \n",
    "    1. 画像配列と\n",
    "    2. 回転角度（度数法）です。\n",
    "3. ```rotate_image``` 関数内で、Numpyのnp.rot90() 関数を使用して画像配列を指定した角度で回転させます。\n",
    "4. 回転した画像を新しいファイルに保存します（例: 'rotated_simple.jpg'）。\n",
    "5. オリジナル画像と回転画像を並べて表示し、比較できるようにします。\n",
    "\n",
    "ヒント:\n",
    "\n",
    "必要なライブラリをインポートすることを忘れないでください: numpy と PIL。\n",
    "\n",
    "質問：\n",
    "1. np.rot90のk引数とはなんですか？ネットで調べてみてください\n",
    "2. 60度回転してみたんだけど、画像は回転されていない。回転できる角度を探ってみてください。（Macでできない、できれば無視）"
   ]
  },
  {
   "cell_type": "code",
   "execution_count": 19,
   "id": "dd9d3c8e",
   "metadata": {},
   "outputs": [],
   "source": [
    "# 参考して上の課題を次の欄で回答してみてください。\n",
    "\n",
    "import numpy as np\n",
    "from PIL import Image\n",
    "\n",
    "def rotate_image(image_array, angle_degrees):\n",
    "    # 指定した角度で画像配列を回転\n",
    "    rotated_image_array = np.rot90(image_array, k=int(angle_degrees / 90))\n",
    "    return rotated_image_array\n",
    "\n",
    "# オリジナル画像を読み込み\n",
    "original_image = Image.open('image.jpeg')\n",
    "original_image_array = np.array(original_image)\n",
    "\n",
    "# 画像を60度回転\n",
    "rotated_image_array = rotate_image(original_image_array, 60)\n",
    "\n",
    "\n",
    "# 回転した画像を保存し表示\n",
    "rotated_image = Image.fromarray(rotated_image_array)\n",
    "rotated_image.save('rotated_simple.jpeg')\n",
    "\n",
    "# オリジナル画像と回転画像を並べて表示\n",
    "original_image.show(title=\"オリジナル画像\")\n",
    "rotated_image.show(title=\"回転画像\")\n"
   ]
  },
  {
   "cell_type": "code",
   "execution_count": 20,
   "id": "8a1a5ea6",
   "metadata": {},
   "outputs": [],
   "source": [
    "# ここで"
   ]
  },
  {
   "cell_type": "code",
   "execution_count": null,
   "id": "6344c2d3",
   "metadata": {},
   "outputs": [],
   "source": []
  }
 ],
 "metadata": {
  "kernelspec": {
   "display_name": "Python 3 (ipykernel)",
   "language": "python",
   "name": "python3"
  },
  "language_info": {
   "codemirror_mode": {
    "name": "ipython",
    "version": 3
   },
   "file_extension": ".py",
   "mimetype": "text/x-python",
   "name": "python",
   "nbconvert_exporter": "python",
   "pygments_lexer": "ipython3",
   "version": "3.11.2"
  }
 },
 "nbformat": 4,
 "nbformat_minor": 5
}
