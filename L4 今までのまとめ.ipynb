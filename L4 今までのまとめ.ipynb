{
 "cells": [
  {
   "cell_type": "markdown",
   "id": "b8eb51c3",
   "metadata": {},
   "source": [
    "# NumPy 入門 レッスン4 ：今までのまとめ\n",
    "\n",
    "今まで学んだnumpy関数や機能をできる限り利用してみよう。\n",
    "\n",
    "## 4.1 練習問題：\n",
    "\n",
    "あなたは教師であり、30人の生徒が2つの試験を受けたクラスを担当しています。NumPy配列を使用して彼らの成績を分析し、いくつかの基本的な操作を行いたいと思っています。\n",
    "\n",
    "1. np.zeros() 関数を使用して、形状が (1, 30) の2次元NumPy配列 scores を初期化してください。\n",
    "2. 次の成績を scores 配列に追加してください（縦軸に沿って）：\n",
    "    - 第1試験の成績:\n",
    "    ```Python\n",
    "    [85, 92, 78, 89, 95, 87, 92, 80, 79, 88, 90, 92, 86, 91, 82, 95, 88, 83, 87, 90, 94, 86, 81, 93, 89, 87, 85, 90, 88, 92]\n",
    "    ```\n",
    "    - 第2試験の成績:\n",
    "    ```Python\n",
    "    [88, 95, 76, 92, 91, 83, 90, 78, 85, 89, 92, 84, 88, 90, 83, 92, 87, 84, 85, 89, 92, 81, 86, 88, 90, 84, 91, 89, 93, 90]\n",
    "    ```\n",
    "3. 各生徒の合計得点を計算し、total_scores という新しいNumPy配列に格納してください。\n",
    "4. 各試験の平均得点を計算し、average_scores という新しいNumPy配列に格納してください。\n",
    "5. 各試験の最高得点と最低得点を別々のNumPy配列に格納（かくのう）し、それぞれ max_scores と min_scores という名前にしてください。(五番目のやり方をネットで調べてみよう）"
   ]
  },
  {
   "cell_type": "code",
   "execution_count": 34,
   "id": "76bc6289",
   "metadata": {},
   "outputs": [
    {
     "name": "stdout",
     "output_type": "stream",
     "text": [
      "87.8\n"
     ]
    }
   ],
   "source": [
    "# list1 = np.array([85, 92, 78, 89, 95, 87, 92, 80, 79, 88, 90, 92, 86, 91, 82, 95, 88, 83, 87, 90, 94, 86, 81, 93, 89, 87, 85, 90, 88, 92])\n",
    "\n",
    "total_score = 0\n",
    "for i in list1:\n",
    "    total_score += i\n",
    "\n",
    "print(total_score / 30)"
   ]
  },
  {
   "cell_type": "code",
   "execution_count": 82,
   "id": "8a2d7297",
   "metadata": {},
   "outputs": [],
   "source": [
    "ss = np.array([[85, 92, 78, 89, 99, 87, 92, 80, 79, 88, 90, 92, 86, 91, 82, 95, 88, 83, 87, 90, 94, 86, 81, 93, 89, 87, 85, 90, 88, 92]])\n",
    "tt = np.array([[88, 95, 76, 92, 91, 83, 90, 78, 85, 89, 92, 84, 88, 90, 83, 92, 87, 84, 85, 89, 92, 81, 86, 88, 90, 84, 91, 89, 93, 90]])\n",
    "scores = np.zeros((1, 30))\n",
    "# print(scores)\n",
    "\n",
    "# scores = np.append(scores, ss, axis=0)\n",
    "# print(scores)"
   ]
  },
  {
   "cell_type": "code",
   "execution_count": 83,
   "id": "562876bf",
   "metadata": {},
   "outputs": [
    {
     "name": "stdout",
     "output_type": "stream",
     "text": [
      "[[ 0.  0.  0.  0.  0.  0.  0.  0.  0.  0.  0.  0.  0.  0.  0.  0.  0.  0.\n",
      "   0.  0.  0.  0.  0.  0.  0.  0.  0.  0.  0.  0.]\n",
      " [88. 95. 76. 92. 91. 83. 90. 78. 85. 89. 92. 84. 88. 90. 83. 92. 87. 84.\n",
      "  85. 89. 92. 81. 86. 88. 90. 84. 91. 89. 93. 90.]]\n"
     ]
    }
   ],
   "source": [
    "scores2 = np.append(scores, tt, axis=0)\n",
    "print(scores2)"
   ]
  },
  {
   "cell_type": "code",
   "execution_count": 84,
   "id": "88eb57b4",
   "metadata": {},
   "outputs": [
    {
     "name": "stdout",
     "output_type": "stream",
     "text": [
      "[[85 92 78 89 99 87 92 80 79 88 90 92 86 91 82 95 88 83 87 90 94 86 81 93\n",
      "  89 87 85 90 88 92]\n",
      " [88 95 76 92 91 83 90 78 85 89 92 84 88 90 83 92 87 84 85 89 92 81 86 88\n",
      "  90 84 91 89 93 90]]\n"
     ]
    }
   ],
   "source": [
    "scores = np.append(ss, tt, axis=0)\n",
    "print(scores)"
   ]
  },
  {
   "cell_type": "code",
   "execution_count": 85,
   "id": "e9db6869",
   "metadata": {},
   "outputs": [
    {
     "name": "stdout",
     "output_type": "stream",
     "text": [
      "[87.93333333 87.5       ]\n"
     ]
    }
   ],
   "source": [
    "print(np.sum(scores, axis=1) / 30.)"
   ]
  },
  {
   "cell_type": "code",
   "execution_count": 86,
   "id": "d0cbfce5",
   "metadata": {},
   "outputs": [],
   "source": [
    "# np.sum(scores, axis=0)"
   ]
  },
  {
   "cell_type": "code",
   "execution_count": 90,
   "id": "5ee756c7",
   "metadata": {},
   "outputs": [
    {
     "data": {
      "text/plain": [
       "99"
      ]
     },
     "execution_count": 90,
     "metadata": {},
     "output_type": "execute_result"
    }
   ],
   "source": [
    "np.max(scores)"
   ]
  },
  {
   "cell_type": "code",
   "execution_count": 88,
   "id": "05c64435",
   "metadata": {},
   "outputs": [],
   "source": [
    "# np.max(scores, axis=0)"
   ]
  },
  {
   "cell_type": "code",
   "execution_count": 89,
   "id": "8ad84411",
   "metadata": {},
   "outputs": [
    {
     "data": {
      "text/plain": [
       "76"
      ]
     },
     "execution_count": 89,
     "metadata": {},
     "output_type": "execute_result"
    }
   ],
   "source": [
    "np.min(scores)"
   ]
  },
  {
   "cell_type": "code",
   "execution_count": null,
   "id": "2ebc305f",
   "metadata": {},
   "outputs": [],
   "source": []
  }
 ],
 "metadata": {
  "kernelspec": {
   "display_name": "Python 3 (ipykernel)",
   "language": "python",
   "name": "python3"
  },
  "language_info": {
   "codemirror_mode": {
    "name": "ipython",
    "version": 3
   },
   "file_extension": ".py",
   "mimetype": "text/x-python",
   "name": "python",
   "nbconvert_exporter": "python",
   "pygments_lexer": "ipython3",
   "version": "3.11.2"
  }
 },
 "nbformat": 4,
 "nbformat_minor": 5
}
