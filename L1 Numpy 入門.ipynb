{
 "cells": [
  {
   "cell_type": "markdown",
   "id": "832b1c2b",
   "metadata": {},
   "source": [
    "# NumPy 入門　レッスン１\n",
    "\n",
    "## 1.1 NumPyとは？\n",
    "\n",
    "科学技術計算やWebデータの分析などの大規模なデータを取り扱う場合、多次元かつ大量のベクトル（=配列）の演算が必要になります。\n",
    "\n",
    "PythonはCやJavaなどのコンパイラ言語と比較するとかなり遅いため、そうった演算を行うと難儀するのですが、NumPyの配列オブジェクト「ndarray」を使用することで高速なデータ処理が可能となります。"
   ]
  },
  {
   "cell_type": "code",
   "execution_count": 2,
   "id": "bb41827b",
   "metadata": {},
   "outputs": [],
   "source": [
    "import numpy as np\n",
    "import random as rd\n",
    "import sys\n",
    "np.set_printoptions(threshold=sys.maxsize)"
   ]
  },
  {
   "cell_type": "code",
   "execution_count": 3,
   "id": "81de0c20",
   "metadata": {},
   "outputs": [
    {
     "name": "stdout",
     "output_type": "stream",
     "text": [
      "56\n"
     ]
    }
   ],
   "source": [
    "list_ = [56, 54543, 56]\n",
    "print(list_[2])"
   ]
  },
  {
   "cell_type": "markdown",
   "id": "144ea51d",
   "metadata": {},
   "source": [
    "インポートする際はnpと名前を付けるのが一般的です。例えば、numpyをインポートし、3行3列の行列を生成する場合は以下のように記述します。（詳細は別途説明します。）"
   ]
  },
  {
   "cell_type": "code",
   "execution_count": 4,
   "id": "a865751d",
   "metadata": {},
   "outputs": [
    {
     "name": "stdout",
     "output_type": "stream",
     "text": [
      "[[11 12 13]\n",
      " [21 22 23]\n",
      " [31 32 33]]\n",
      "<class 'str'>\n"
     ]
    }
   ],
   "source": [
    "gg = np.array([[11 , 12, 13], [21, 22, 23], [31, 32, 33]])\n",
    "print(gg)\n",
    "\n",
    "hh = 'string, 文字列'\n",
    "print(type(hh))"
   ]
  },
  {
   "cell_type": "markdown",
   "id": "8c9a1a3c",
   "metadata": {},
   "source": [
    "一次元と二次元（例）：\n",
    "-  この下にあるアレー（配列）は一次元。"
   ]
  },
  {
   "cell_type": "code",
   "execution_count": 40,
   "id": "0dafd098",
   "metadata": {},
   "outputs": [
    {
     "data": {
      "text/plain": [
       "array(['114', '1232', 'ff'], dtype='<U21')"
      ]
     },
     "execution_count": 40,
     "metadata": {},
     "output_type": "execute_result"
    }
   ],
   "source": [
    "np.array([114 , 1232, 1354])"
   ]
  },
  {
   "cell_type": "markdown",
   "id": "6e7c41bf",
   "metadata": {},
   "source": [
    "- 次は二次元、二次元であればコマで各行は分別されています。"
   ]
  },
  {
   "cell_type": "code",
   "execution_count": 68,
   "id": "8dba7d60",
   "metadata": {},
   "outputs": [
    {
     "name": "stdout",
     "output_type": "stream",
     "text": [
      "[[[   114   1232   1354]\n",
      "  [ 34354   5645   4343]\n",
      "  [239403   4943    321]\n",
      "  [    43   1920   4332]]\n",
      "\n",
      " [[   114   1232   1354]\n",
      "  [ 34354   5645      6]\n",
      "  [239403   4943    321]\n",
      "  [    43   1920   4332]]]\n"
     ]
    }
   ],
   "source": [
    "ll = np.array([[[114 , 1232, 1354], \n",
    "                [34354, 5645, 4343], \n",
    "                [239403, 4943, 321], \n",
    "                [43, 1920, 4332]],\n",
    "               \n",
    "              [[114 , 1232, 1354], \n",
    "               [34354, 5645, 6], \n",
    "               [239403, 4943, 321], \n",
    "               [43, 1920, 4332]]])\n",
    "\n",
    "print(ll)"
   ]
  },
  {
   "cell_type": "markdown",
   "id": "14373944",
   "metadata": {},
   "source": [
    "## 1.2 用語について\n",
    "\n",
    "NumPyで用意されている配列はndarrayというNumPy独自の型なのですが、今後このndarrayでベクトルや行列を表します。「NumPyの配列」だと少し長いので今後は単純に「array」もしくは「配列」と記述します。\n",
    "\n",
    "また、実はNumPyには配列とは別に「matrix（行列）」という型があるのですが、あまり使われなくなりつつあるらしいため、当サイトでは線形代数と同様、単純に2次元の配列のことを行列と呼称します。\n",
    "\n",
    "### 1.2.1 リストとどう違いますか？\n",
    "リストも二次元のリストを作れます。が、Numpyに考慮されている機能などより多いと使いやすいため、二次元以上の配列（array）は一般的にNumpyでデータを取り扱います。（先生は画像とか描いたほうがいい）。"
   ]
  },
  {
   "cell_type": "code",
   "execution_count": 5,
   "id": "64cb5793",
   "metadata": {},
   "outputs": [
    {
     "name": "stdout",
     "output_type": "stream",
     "text": [
      "[1 0 1]\n"
     ]
    }
   ],
   "source": [
    "x = np.array([1, 0, 1])\n",
    "print(x)"
   ]
  },
  {
   "cell_type": "code",
   "execution_count": 6,
   "id": "38bfb678",
   "metadata": {},
   "outputs": [],
   "source": [
    "# ここで試してみよう\n"
   ]
  },
  {
   "cell_type": "markdown",
   "id": "dba8182f",
   "metadata": {},
   "source": [
    "配列はarray関数にリストやタプルのようなシーケンシャルオブジェクトを指定することで生成することができます。\n",
    "\n",
    "## 1.3 さまざまな配列生成方法\n",
    "\n",
    "配列の生成時に範囲、間隔、個数、型などを指定することができます。\n",
    "\n",
    "### 1.3.1 範囲指定 、間隔指定\n",
    "\n",
    "arangeを使用すると範囲や間隔を指定することができます。"
   ]
  },
  {
   "cell_type": "code",
   "execution_count": 86,
   "id": "bd49e391",
   "metadata": {},
   "outputs": [
    {
     "name": "stdout",
     "output_type": "stream",
     "text": [
      "[10 11 12 13 14 15 16 17 18 19]\n",
      "[10 19 28 37 46 55 64 73 82 91]\n"
     ]
    }
   ],
   "source": [
    "x = np.arange(10, 20)    # 1以上10未満の配列を生成\n",
    "y = np.arange(10, 100, 9) # 1以上10未満、間隔2の配列を生成\n",
    "\n",
    "print(x)\n",
    "print(y)"
   ]
  },
  {
   "cell_type": "code",
   "execution_count": 8,
   "id": "8fd1c578",
   "metadata": {},
   "outputs": [],
   "source": [
    "# ここで試してみよう submit by monday.\n"
   ]
  },
  {
   "cell_type": "markdown",
   "id": "44f7b4be",
   "metadata": {},
   "source": [
    "### 1.3.2 個数指定\n",
    "\n",
    "linspaceを使用すると個数を指定することができます。"
   ]
  },
  {
   "cell_type": "code",
   "execution_count": 94,
   "id": "d584730d",
   "metadata": {},
   "outputs": [
    {
     "name": "stdout",
     "output_type": "stream",
     "text": [
      "[ 1.  2.  3.  4.  5.  6.  7.  8.  9. 10. 11. 12. 13. 14. 15. 16. 17. 18.\n",
      " 19. 20.]\n"
     ]
    }
   ],
   "source": [
    "gg = np.linspace(1, 20, 20) # 1〜2で5個の要素\n",
    "print(gg)\n",
    "\n",
    "# lin linear\n",
    "# space "
   ]
  },
  {
   "cell_type": "markdown",
   "id": "d1a333e5",
   "metadata": {},
   "source": [
    "### 1.3.3 データタイプを指定する\n",
    "データタイプまだ覚えていますか？\n",
    "\n",
    "numpyには独自の型があり、引数dtypeで適切な型設定することによりメモリ使用量を節約することができます。詳細な型や型変換については別項にて説明します。上のサンプルのように型を指定しない場合はnumpy.int64となります。例えば、float32を指定する場合は以下のように記述します。"
   ]
  },
  {
   "cell_type": "code",
   "execution_count": 99,
   "id": "a366e390",
   "metadata": {},
   "outputs": [],
   "source": [
    "gg = np.array([1.3, 0, 1], dtype='float32')\n",
    "bb = np.array([1.8, 0, 1], dtype='int64')\n",
    "dd = np.array([1, 0, 1], dtype='str')\n",
    "\n",
    "# dd = np.array([1, 0, 1], dtype=\"\")"
   ]
  },
  {
   "cell_type": "code",
   "execution_count": 105,
   "id": "5aedd16b",
   "metadata": {},
   "outputs": [
    {
     "name": "stdout",
     "output_type": "stream",
     "text": [
      "[1.3 0.  1. ]\n",
      "[1 0 1]\n",
      "['1' '0' '1']\n"
     ]
    }
   ],
   "source": [
    "print(gg)\n",
    "print(bb)\n",
    "print(dd)"
   ]
  },
  {
   "cell_type": "code",
   "execution_count": 111,
   "id": "19654062",
   "metadata": {},
   "outputs": [
    {
     "name": "stdout",
     "output_type": "stream",
     "text": [
      "['45' '43' '56' '34' '12' '34']\n",
      "[45. 43. 56. 34. 12. 34.]\n"
     ]
    }
   ],
   "source": [
    "# give her assignment here\n",
    "# kl = int(dd)\n",
    "\n",
    "dd = np.array([\"45\", \"43\", \"56\", \"34\", \"12\", \"34\"])\n",
    "print(dd)\n",
    "hh = np.array(dd, dtype=\"float32\")\n",
    "print(hh)"
   ]
  },
  {
   "cell_type": "markdown",
   "id": "acf54ee3",
   "metadata": {},
   "source": [
    "### 1.3.4 配列へのデータアクセス\n",
    "\n",
    "リストやタプルのような通常のシーケンシャルオブジェクトと同様に添字でアクセスすることができます。"
   ]
  },
  {
   "cell_type": "code",
   "execution_count": 16,
   "id": "4bc7b74c",
   "metadata": {},
   "outputs": [
    {
     "name": "stdout",
     "output_type": "stream",
     "text": [
      "1\n",
      "[1 2]\n",
      "5\n"
     ]
    }
   ],
   "source": [
    "# 配列を生成\n",
    "x = np.array([1, 2, 3, 4, 5])\n",
    " \n",
    "# 0番目にアクセス\n",
    "print(x[0]) # 1\n",
    " \n",
    "# スライスで0番目から2番目未満にアクセス\n",
    "print(x[0:2]) # array([1, 2])\n",
    " \n",
    "# 最後の要素にアクセス\n",
    "print(x[-1]) # 5"
   ]
  },
  {
   "cell_type": "markdown",
   "id": "b0ee585e",
   "metadata": {},
   "source": [
    "二次元の配列の要素もアクセスこうアクセスできます"
   ]
  },
  {
   "cell_type": "code",
   "execution_count": 16,
   "id": "030cee96",
   "metadata": {},
   "outputs": [
    {
     "name": "stdout",
     "output_type": "stream",
     "text": [
      "1354\n",
      "[ 114 1232]\n"
     ]
    }
   ],
   "source": [
    "jj = np.array([[114 , 1232, 1354], \n",
    "              [34354, 5645`, 4343], \n",
    "              [239403, 4943, 321], \n",
    "              [43, 1920, 4332]])\n",
    "\n",
    "print(jj[0][2])\n",
    "print(jj[0,])\n",
    "print(jj[0,0:2])"
   ]
  },
  {
   "cell_type": "code",
   "execution_count": null,
   "id": "92d9e475",
   "metadata": {},
   "outputs": [],
   "source": []
  },
  {
   "cell_type": "markdown",
   "id": "c7a71476",
   "metadata": {},
   "source": [
    "# 1.3 最後の課題\n",
    "\n",
    "挑戦してみよう。\n",
    "1. 二つ同じ一次元の配列を作ってください。一つ目はリストで、二つ目はNumPyで作ってください。\n",
    "2. \n",
    "3. \n"
   ]
  },
  {
   "cell_type": "code",
   "execution_count": 29,
   "id": "8956ff66",
   "metadata": {},
   "outputs": [
    {
     "name": "stdout",
     "output_type": "stream",
     "text": [
      "[1 7 3]\n",
      "[ 1  7  3 34  4]\n"
     ]
    }
   ],
   "source": [
    "numpy1 = np.array([1, 7, 3])\n",
    "print(numpy1)\n",
    "\n",
    "numpy1 = np.append(numpy1, [34, 4])\n",
    "print(numpy1)"
   ]
  },
  {
   "cell_type": "code",
   "execution_count": 12,
   "id": "7549e608",
   "metadata": {},
   "outputs": [
    {
     "name": "stdout",
     "output_type": "stream",
     "text": [
      "<class 'list'>\n",
      "[1, 2]\n"
     ]
    }
   ],
   "source": [
    "list1 = [1, 2, 3]\n",
    "print(type(list1))\n",
    "list1.pop()\n",
    "print(list1)"
   ]
  },
  {
   "cell_type": "code",
   "execution_count": 28,
   "id": "f3161351",
   "metadata": {},
   "outputs": [
    {
     "name": "stdout",
     "output_type": "stream",
     "text": [
      "[1 7 3]\n"
     ]
    }
   ],
   "source": [
    "np.append(numpy1, [4, 5, 6])\n"
   ]
  },
  {
   "cell_type": "code",
   "execution_count": null,
   "id": "1a307430",
   "metadata": {},
   "outputs": [],
   "source": []
  }
 ],
 "metadata": {
  "kernelspec": {
   "display_name": "Python 3 (ipykernel)",
   "language": "python",
   "name": "python3"
  },
  "language_info": {
   "codemirror_mode": {
    "name": "ipython",
    "version": 3
   },
   "file_extension": ".py",
   "mimetype": "text/x-python",
   "name": "python",
   "nbconvert_exporter": "python",
   "pygments_lexer": "ipython3",
   "version": "3.11.2"
  }
 },
 "nbformat": 4,
 "nbformat_minor": 5
}
