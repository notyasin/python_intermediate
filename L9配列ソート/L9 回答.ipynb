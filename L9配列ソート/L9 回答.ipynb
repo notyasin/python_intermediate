{
 "cells": [
  {
   "cell_type": "code",
   "execution_count": 2,
   "id": "60d86fdf",
   "metadata": {},
   "outputs": [],
   "source": [
    "import numpy as np"
   ]
  },
  {
   "cell_type": "code",
   "execution_count": 3,
   "id": "9a2cac08",
   "metadata": {},
   "outputs": [
    {
     "name": "stdout",
     "output_type": "stream",
     "text": [
      "昇順整列後の配列: [ 9 11 22 32 45]\n"
     ]
    }
   ],
   "source": [
    "array_to_sort = np.array([32, 11, 45, 9, 22])\n",
    "sorted_array = np.sort(array_to_sort)\n",
    "print(\"昇順整列後の配列:\", sorted_array)\n"
   ]
  },
  {
   "cell_type": "code",
   "execution_count": 4,
   "id": "e5c0a8b9",
   "metadata": {},
   "outputs": [
    {
     "name": "stdout",
     "output_type": "stream",
     "text": [
      "降順整列後の配列: [45 32 22 11  9]\n"
     ]
    }
   ],
   "source": [
    "descending_sorted_array = np.sort(array_to_sort)[::-1]\n",
    "print(\"降順整列後の配列:\", descending_sorted_array)\n"
   ]
  },
  {
   "cell_type": "code",
   "execution_count": 7,
   "id": "6165cb4c",
   "metadata": {},
   "outputs": [
    {
     "name": "stdout",
     "output_type": "stream",
     "text": [
      "45は配列内に存在するか？ True\n"
     ]
    }
   ],
   "source": [
    "value_to_find = 45\n",
    "is_present = np.isin(value_to_find, array_to_sort)\n",
    "print(f\"{value_to_find}は配列内に存在するか？ {is_present}\")\n"
   ]
  },
  {
   "cell_type": "code",
   "execution_count": 8,
   "id": "02b0e615",
   "metadata": {},
   "outputs": [
    {
     "name": "stdout",
     "output_type": "stream",
     "text": [
      "45のインデックスは (array([2]),)\n"
     ]
    }
   ],
   "source": [
    "indices = np.where(array_to_sort == value_to_find)\n",
    "print(f\"{value_to_find}のインデックスは {indices}\")\n"
   ]
  },
  {
   "cell_type": "code",
   "execution_count": null,
   "id": "b84787fc",
   "metadata": {},
   "outputs": [],
   "source": []
  }
 ],
 "metadata": {
  "kernelspec": {
   "display_name": "Python 3 (ipykernel)",
   "language": "python",
   "name": "python3"
  },
  "language_info": {
   "codemirror_mode": {
    "name": "ipython",
    "version": 3
   },
   "file_extension": ".py",
   "mimetype": "text/x-python",
   "name": "python",
   "nbconvert_exporter": "python",
   "pygments_lexer": "ipython3",
   "version": "3.11.2"
  }
 },
 "nbformat": 4,
 "nbformat_minor": 5
}
