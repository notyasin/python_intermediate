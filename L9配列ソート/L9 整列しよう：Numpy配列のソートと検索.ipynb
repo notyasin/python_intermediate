{
 "cells": [
  {
   "cell_type": "markdown",
   "id": "c99176ff",
   "metadata": {},
   "source": [
    "# L9: \n",
    "\n",
    "## 整列しよう：Numpy配列のソートと検索\n",
    "\n",
    "この授業では、Numpy配列内のデータを整列（ソート）し、特定の値を検索する方法について学びます。これにより、データの操作と把握能力が向上し、実世界の問題解決に役立てることができるようになります。\n",
    "\n",
    "## 授業内容:\n",
    "\n",
    "## 整列とは:\n",
    "*  整列（ソート）の基本的な概念と重要性を説明する。\n",
    "* 昇順（小さい順）、降順（大きい順）の整列方法についての説明。\n",
    "\n",
    "## Numpy配列のソート:\n",
    "*  Numpyのnumpy.sort()関数を使用した整列の方法を解説する。\n",
    "* オリジナルの配列を変更しないソート方法（numpy.argsort()）についても説明する。\n",
    "* 整列後の配列を用いてグラフを作成するなど、実用的な例を挙げる。\n",
    "\n",
    "例のコード:"
   ]
  },
  {
   "cell_type": "code",
   "execution_count": 1,
   "id": "6b8863a2",
   "metadata": {},
   "outputs": [
    {
     "name": "stdout",
     "output_type": "stream",
     "text": [
      "昇順整列後の配列: [1 3 6 8 9]\n",
      "降順整列後の配列: [9 8 6 3 1]\n"
     ]
    }
   ],
   "source": [
    "import numpy as np\n",
    "\n",
    "original_array = np.array([9, 3, 6, 1, 8])\n",
    "\n",
    "sorted_array = np.sort(original_array)\n",
    "print(\"昇順整列後の配列:\", sorted_array)\n",
    "\n",
    "descending_sorted_array = np.sort(original_array)[::-1]\n",
    "print(\"降順整列後の配列:\", descending_sorted_array)"
   ]
  },
  {
   "cell_type": "markdown",
   "id": "98a71848",
   "metadata": {},
   "source": [
    "### ⚠️スライスの説明:\n",
    "配列内の要素を操作する際に、Numpyではスライスが有用です。[::-1]のスライスは、配列の要素を逆順にするために使用されています。[::-1]はスタートとストップの値が省略されているため、デフォルトの始点から終点までの範囲を示し、ステップの値が-1となっているため、逆順に要素を取得します。"
   ]
  },
  {
   "cell_type": "markdown",
   "id": "6c8093cc",
   "metadata": {},
   "source": [
    "## Numpy配列の検索:\n",
    "* 特定の値が配列内に存在するかどうかを確認する方法（numpy.isin()）を説明する。\n",
    "* 値を検索し、該当するインデックスを返す方法（numpy.where()）についても説明する。\n",
    "\n",
    "例のコード:"
   ]
  },
  {
   "cell_type": "code",
   "execution_count": 2,
   "id": "4dddbbde",
   "metadata": {},
   "outputs": [
    {
     "name": "stdout",
     "output_type": "stream",
     "text": [
      "15は配列内に存在するか？ True\n",
      "15のインデックスは (array([2]),)\n"
     ]
    }
   ],
   "source": [
    "array_to_search = np.array([5, 10, 15, 20, 25])\n",
    "\n",
    "value_to_find = 15\n",
    "is_present = np.isin(value_to_find, array_to_search)\n",
    "print(f\"{value_to_find}は配列内に存在するか？ {is_present}\")\n",
    "\n",
    "indices = np.where(array_to_search == value_to_find)\n",
    "print(f\"{value_to_find}のインデックスは {indices}\")\n"
   ]
  },
  {
   "cell_type": "markdown",
   "id": "13bbbda0",
   "metadata": {},
   "source": [
    "## 練習問題: Numpy配列のソートと検索\n",
    "\n",
    "### 課題:\n",
    "生徒に与えるための課題を作成しました。以下の課題を解いて、Numpy配列の整列と検索に関する理解を確認しましょう。\n",
    "\n",
    "### 課題内容:\n",
    "与えられたNumpy配列を使って以下のタスクを実行してください。"
   ]
  },
  {
   "cell_type": "code",
   "execution_count": 3,
   "id": "63ad135c",
   "metadata": {},
   "outputs": [],
   "source": [
    "array_to_sort = np.array([32, 11, 45, 9, 22])"
   ]
  },
  {
   "cell_type": "markdown",
   "id": "1d3439e6",
   "metadata": {},
   "source": [
    "1. 与えられたNumpy配列を昇順（小さい順）に整列し、整列後の配列を表示してください。"
   ]
  },
  {
   "cell_type": "code",
   "execution_count": 4,
   "id": "1388991e",
   "metadata": {},
   "outputs": [],
   "source": [
    "# ここで書いてください\n"
   ]
  },
  {
   "cell_type": "markdown",
   "id": "e63310f1",
   "metadata": {},
   "source": [
    "2. 与えられたNumpy配列を降順（大きい順）に整列し、整列後の配列を表示してください。"
   ]
  },
  {
   "cell_type": "code",
   "execution_count": 5,
   "id": "db71b608",
   "metadata": {},
   "outputs": [],
   "source": [
    "# ここで書いてください\n"
   ]
  },
  {
   "cell_type": "markdown",
   "id": "ccae6538",
   "metadata": {},
   "source": [
    "3. 特定の値が与えられたNumpy配列内に存在するかどうかを確認し、結果を表示してください。\n"
   ]
  },
  {
   "cell_type": "code",
   "execution_count": 6,
   "id": "b0934ab4",
   "metadata": {},
   "outputs": [],
   "source": [
    "# ここで書いてください\n"
   ]
  },
  {
   "cell_type": "markdown",
   "id": "08b3598e",
   "metadata": {},
   "source": [
    "4. 特定の値が与えられたNumpy配列内に存在する場合、その値が存在するインデックスを表示してください。"
   ]
  },
  {
   "cell_type": "code",
   "execution_count": null,
   "id": "d018637a",
   "metadata": {},
   "outputs": [],
   "source": [
    "# ここで書いてください\n"
   ]
  }
 ],
 "metadata": {
  "kernelspec": {
   "display_name": "Python 3 (ipykernel)",
   "language": "python",
   "name": "python3"
  },
  "language_info": {
   "codemirror_mode": {
    "name": "ipython",
    "version": 3
   },
   "file_extension": ".py",
   "mimetype": "text/x-python",
   "name": "python",
   "nbconvert_exporter": "python",
   "pygments_lexer": "ipython3",
   "version": "3.11.2"
  }
 },
 "nbformat": 4,
 "nbformat_minor": 5
}
