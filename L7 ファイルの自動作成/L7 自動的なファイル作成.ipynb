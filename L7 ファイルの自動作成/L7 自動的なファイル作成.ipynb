{
 "cells": [
  {
   "cell_type": "markdown",
   "id": "a33bc56d",
   "metadata": {},
   "source": [
    "# レッスン: Pythonを使用したテキストファイルの自動作成（forループを使用）\n",
    "\n",
    "## はじめに\n",
    "\n",
    "このレッスンでは、Pythonのforループを使用して、テキスト（.txt）ファイルの自動作成方法について学びます。テキストファイルはデータを保存・管理するための一般的な方法であり、自動的に作成することで、大量のデータや繰り返しタスクに効果的に対処できます。\n",
    "\n",
    "このレッスンの終わりには、以下のことができるようになります：\n",
    "\n",
    "1. Pythonのforループの基本を理解する。\n",
    "2. forループを使用してテキストファイルを作成し、カスタマイズする方法を学ぶ。\n",
    "3. テキストファイルの自動作成が有用な実世界のシナリオにこの知識を適用する。\n",
    "\n",
    "## 前提条件\n",
    "\n",
    "始める前に、以下の基本的な概念について理解していることを確認してください：\n",
    "\n",
    "1. 基本的なPythonの構文と概念。\n",
    "2. Pythonでのテキストファイルの操作（open()、write()、close()）。"
   ]
  },
  {
   "cell_type": "markdown",
   "id": "b7eae6e8",
   "metadata": {},
   "source": [
    "## forループ\n",
    "\n",
    "Pythonのforループは、シーケンス（リスト、タプル、文字列など）を反復処理し、各アイテムに対して一連のコードを実行するために使用されます。forループの一般的な構文は次のとおりです：\n",
    "\n",
    "```Python\n",
    "for アイテム in シーケンス:\n",
    "    # 各アイテムに対して実行するコード\n",
    "```\n",
    "この下の欄で少し復習してみませんか？"
   ]
  },
  {
   "cell_type": "code",
   "execution_count": 11,
   "id": "f1541923",
   "metadata": {},
   "outputs": [
    {
     "name": "stdout",
     "output_type": "stream",
     "text": [
      "1\n",
      "5\n",
      "9\n",
      "one\n",
      "two\n",
      "three\n",
      "one\n",
      "two\n",
      "three\n",
      "<class 'tuple'>\n"
     ]
    }
   ],
   "source": [
    "for var in range(1,10,4):\n",
    "    print(var)\n",
    "    \n",
    "list1 = [\"one\", \"two\", \"three\"]\n",
    "for var in list1:\n",
    "    print(var)\n",
    "\n",
    "for var in range(len(list1)):\n",
    "    print(list1[var])\n",
    "    \n",
    "tuple1 = (\"4\", \"4\")\n",
    "print(type(tuple1))"
   ]
  },
  {
   "cell_type": "markdown",
   "id": "f21458ec",
   "metadata": {},
   "source": [
    "## forループを使用したテキストファイルの作成\n",
    "\n",
    "forループを使用して複数のテキストファイルをユニークな内容で自動的に作成する方法を見てみましょう。この例では、連番の段落を含む一連のテキストファイルを作成します。"
   ]
  },
  {
   "cell_type": "code",
   "execution_count": 18,
   "id": "adde99c8",
   "metadata": {},
   "outputs": [
    {
     "name": "stdout",
     "output_type": "stream",
     "text": [
      "ファイル「file_1.txt」が正常に作成されました。\n",
      "ファイル「file_2.txt」が正常に作成されました。\n",
      "ファイル「file_3.txt」が正常に作成されました。\n",
      "ファイル「file_4.txt」が正常に作成されました。\n",
      "ファイル「file_5.txt」が正常に作成されました。\n"
     ]
    }
   ],
   "source": [
    "import numpy as np    \n",
    "\n",
    "# 作成するファイルの数を指定\n",
    "num_files = 5\n",
    "\n",
    "# forループを使用して範囲を反復処理する\n",
    "for file_num in range(1, num_files + 1):\n",
    "    \n",
    "    # ファイル名を生成\n",
    "    filename = f\"file_{file_num}.txt\"\n",
    "    \n",
    "    # ファイルの内容を生成\n",
    "    content = f\"これはテキストファイルの第{file_num}段落です。\\n\"\n",
    "    \n",
    "    # 事前作成されたNumPy配列をランダムに生成\n",
    "    array_size = np.random.randint(5, 10)  # 5から9の範囲でランダムなサイズを選択\n",
    "    random_array = np.random.randint(1, 100, size=array_size)\n",
    "    \n",
    "    # NumPy配列を内容に追加\n",
    "    content += \"ランダムな数字： \" + str(random_array)\n",
    "    \n",
    "    # ファイルを作成して書き込む\n",
    "    file = open(filename, 'w')\n",
    "    file.write(content)\n",
    "    file.close()\n",
    "    \n",
    "    print(f\"ファイル「{filename}」が正常に作成されました。\")\n"
   ]
  },
  {
   "cell_type": "markdown",
   "id": "890d19e4",
   "metadata": {},
   "source": [
    "**ここでは、以下の手順を追加しました：**\n",
    "\n",
    "1. スクリプトの始めにNumPyをインポートすることで、import numpy as npを使用します。\n",
    "2. ループ内で、事前にランダムな数字を含むNumPy配列を生成します。配列のサイズや範囲を必要に応じてカスタマイズできます。\n",
    "3. str(random_array)を使用してNumPy配列を文字列に変換し、各テキストファイルの内容に追加します。\n",
    "\n",
    "この方法により、各テキストファイルは一意の段落番号を含む段落と、事前に作成したランダムなNumPy配列を表示する行が含まれるようになります。\n",
    "\n",
    "配列の生成パラメータや、ランダムな数字の範囲やサイズなどを調整して、必要に応じてカスタマイズしてください。このアプローチによって、より高度なデータ構造とリアルなデータをテキストファイルの自動作成プロセスに統合できます。"
   ]
  },
  {
   "cell_type": "code",
   "execution_count": 14,
   "id": "44e0d489",
   "metadata": {},
   "outputs": [
    {
     "ename": "AttributeError",
     "evalue": "module 'numpy2' has no attribute 'function1'",
     "output_type": "error",
     "traceback": [
      "\u001b[0;31m---------------------------------------------------------------------------\u001b[0m",
      "\u001b[0;31mAttributeError\u001b[0m                            Traceback (most recent call last)",
      "Cell \u001b[0;32mIn[14], line 3\u001b[0m\n\u001b[1;32m      1\u001b[0m \u001b[38;5;28;01mimport\u001b[39;00m \u001b[38;5;21;01mnumpy2\u001b[39;00m\n\u001b[0;32m----> 3\u001b[0m \u001b[43mnumpy2\u001b[49m\u001b[38;5;241;43m.\u001b[39;49m\u001b[43mfunction1\u001b[49m(\u001b[38;5;124m\"\u001b[39m\u001b[38;5;124mttt\u001b[39m\u001b[38;5;124m\"\u001b[39m)\n",
      "\u001b[0;31mAttributeError\u001b[0m: module 'numpy2' has no attribute 'function1'"
     ]
    }
   ],
   "source": [
    "import numpy2\n",
    "\n",
    "numpy2.function1(\"ttt\")"
   ]
  },
  {
   "cell_type": "code",
   "execution_count": null,
   "id": "7cdba601",
   "metadata": {},
   "outputs": [],
   "source": []
  }
 ],
 "metadata": {
  "kernelspec": {
   "display_name": "Python 3 (ipykernel)",
   "language": "python",
   "name": "python3"
  },
  "language_info": {
   "codemirror_mode": {
    "name": "ipython",
    "version": 3
   },
   "file_extension": ".py",
   "mimetype": "text/x-python",
   "name": "python",
   "nbconvert_exporter": "python",
   "pygments_lexer": "ipython3",
   "version": "3.11.2"
  }
 },
 "nbformat": 4,
 "nbformat_minor": 5
}
