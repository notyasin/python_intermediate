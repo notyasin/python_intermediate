{
 "cells": [
  {
   "cell_type": "markdown",
   "id": "edd2c3c2",
   "metadata": {},
   "source": [
    "# NumPy 入門　レッスン２\n",
    "\n",
    "## 2.1　復習：NumPy Array作成方法\n",
    "\n",
    "少しNumPy arrayの作成方法を復習しましょう。前回三つぐらいの方法を紹介しました。ここでまた見てみよう。"
   ]
  },
  {
   "cell_type": "code",
   "execution_count": 33,
   "id": "3f47a0ff",
   "metadata": {},
   "outputs": [],
   "source": [
    "import numpy as np\n",
    "import random as rd\n",
    "import sys"
   ]
  },
  {
   "cell_type": "markdown",
   "id": "242a83c3",
   "metadata": {},
   "source": [
    "### 2.1.1 方法の１：最も基本の方法：Arrayを定義する\n",
    "\n",
    "この方法はnp.arrayの関数を使って、そのアレーの要素を一つ一つ定義する。"
   ]
  },
  {
   "cell_type": "code",
   "execution_count": 34,
   "id": "9c58d8bc",
   "metadata": {},
   "outputs": [
    {
     "name": "stdout",
     "output_type": "stream",
     "text": [
      "[[11 12 13]\n",
      " [21 22 23]\n",
      " [31 32 33]]\n",
      "['great' 'reat' 'ggg']\n"
     ]
    }
   ],
   "source": [
    "number_array = np.array([[11 , 12, 13], [21, 22, 23], [31, 32, 33]])\n",
    "print(number_array)\n",
    "\n",
    "string_array = np.array([\"great\", \"reat\", \"ggg\"])\n",
    "print(string_array)"
   ]
  },
  {
   "cell_type": "code",
   "execution_count": 5,
   "id": "0d78cb80",
   "metadata": {},
   "outputs": [],
   "source": [
    "# ここで試してください\n"
   ]
  },
  {
   "cell_type": "markdown",
   "id": "347e541b",
   "metadata": {},
   "source": [
    "### 2.1.2 方法の２：個数指定 \n",
    "\n",
    "linspaceという関数を使う。linspaceは「linear space」から略語されていた。あるいは、線型空間と意味する。使い方も名前通り。"
   ]
  },
  {
   "cell_type": "code",
   "execution_count": 35,
   "id": "890a4ecb",
   "metadata": {},
   "outputs": [
    {
     "name": "stdout",
     "output_type": "stream",
     "text": [
      "[0.00000000e+00 1.00010001e-04 2.00020002e-04 ... 9.99799980e-01\n",
      " 9.99899990e-01 1.00000000e+00]\n"
     ]
    }
   ],
   "source": [
    "gg = np.linspace(0, 1, 10000) # 1〜2で5個の要素\n",
    "print(gg)\n"
   ]
  },
  {
   "cell_type": "code",
   "execution_count": 37,
   "id": "9a9e5418",
   "metadata": {},
   "outputs": [
    {
     "name": "stdout",
     "output_type": "stream",
     "text": [
      "my name Yasin\n"
     ]
    }
   ],
   "source": [
    "# ここで試して\n",
    "\n",
    "def kansuu(var_1 , var_2):\n",
    "    print(var_1, var_2)\n",
    "    \n",
    "kansuu(\"my name\", \"Yasin\")"
   ]
  },
  {
   "cell_type": "markdown",
   "id": "29832ca9",
   "metadata": {},
   "source": [
    "### 2.1.3 方法の３：範囲指定 、間隔指定\n",
    "\n",
    "arangeを使用すると範囲や間隔を指定することができます。arangeは「a range」からのフレーズで、そのまま「範囲」です。\n",
    "\n",
    "引数は二つか三つを定義できて、それによって違う結果ができる。\n",
    "- 二つ定義すればその二つの数値の間に、整数 1 の増加で上昇する。\n",
    "- 三つだったら、三つ目の数値は増分値を決定する。"
   ]
  },
  {
   "cell_type": "code",
   "execution_count": 43,
   "id": "273ce1f1",
   "metadata": {
    "scrolled": true
   },
   "outputs": [
    {
     "name": "stdout",
     "output_type": "stream",
     "text": [
      "[10.1 11.1 12.1 13.1 14.1 15.1 16.1 17.1 18.1 19.1 20.1]\n",
      "[ 1  2  3  4  5  6  7  8  9 10 11 12 13 14 15 16 17 18 19 20 21 22 23 24\n",
      " 25 26 27 28 29 30 31 32 33 34 35 36 37 38 39 40 41 42 43 44 45 46 47 48\n",
      " 49 50 51 52 53 54 55 56 57 58 59 60 61 62 63 64 65 66 67 68 69 70 71 72\n",
      " 73 74 75 76 77 78 79 80 81 82 83 84 85 86 87 88 89 90 91 92 93 94 95 96\n",
      " 97 98 99]\n",
      "99\n"
     ]
    }
   ],
   "source": [
    "x = np.arange(10.1, 20.3)    # 1以上10未満の配列を生成\n",
    "y = np.arange(1, 100, 1) # 1以上10未満、間隔2の配列を生成\n",
    "\n",
    "print(x)\n",
    "print(y)\n",
    "print(len(y))\n"
   ]
  },
  {
   "cell_type": "code",
   "execution_count": 40,
   "id": "b1c5618a",
   "metadata": {},
   "outputs": [],
   "source": [
    "# 検討してみよう\n",
    "\n"
   ]
  },
  {
   "cell_type": "markdown",
   "id": "28fed355",
   "metadata": {},
   "source": [
    "## 2.2 NumPy入門 行列の演算\n",
    "\n",
    "NumPyで基本的な行列を生成する方法について学習した。ここでは生成した行列を計算する方法について学習する。\n",
    "\n",
    "### 2.2.1 ndarrayの四則演算\n"
   ]
  },
  {
   "cell_type": "code",
   "execution_count": 21,
   "id": "550d78a4",
   "metadata": {},
   "outputs": [
    {
     "name": "stdout",
     "output_type": "stream",
     "text": [
      "[[1 2 3]\n",
      " [4 5 6]\n",
      " [7 8 9]]\n",
      "[[10 20 30]\n",
      " [40 50 60]\n",
      " [70 80 90]]\n"
     ]
    }
   ],
   "source": [
    "a = np.array([[1, 2, 3], [4, 5, 6], [7, 8, 9]])\n",
    "b = np.array([[10, 20, 30], [40, 50, 60], [70, 80, 90]])\n",
    "\n",
    "print(a)\n",
    "print(b)"
   ]
  },
  {
   "cell_type": "code",
   "execution_count": 22,
   "id": "5954dfe6",
   "metadata": {},
   "outputs": [
    {
     "data": {
      "text/plain": [
       "array([[11, 22, 33],\n",
       "       [44, 55, 66],\n",
       "       [77, 88, 99]])"
      ]
     },
     "execution_count": 22,
     "metadata": {},
     "output_type": "execute_result"
    }
   ],
   "source": [
    "a + b"
   ]
  },
  {
   "cell_type": "code",
   "execution_count": 46,
   "id": "b1671ffb",
   "metadata": {},
   "outputs": [
    {
     "data": {
      "text/plain": [
       "array([[ -9, -18, -27],\n",
       "       [-36, -45, -54],\n",
       "       [-63, -72, -81]])"
      ]
     },
     "execution_count": 46,
     "metadata": {},
     "output_type": "execute_result"
    }
   ],
   "source": [
    "a - b\n",
    "# b - a"
   ]
  },
  {
   "cell_type": "code",
   "execution_count": 48,
   "id": "f20d2da4",
   "metadata": {},
   "outputs": [
    {
     "name": "stdout",
     "output_type": "stream",
     "text": [
      "[[ 10  40  90]\n",
      " [160 250 360]\n",
      " [490 640 810]]\n"
     ]
    },
    {
     "data": {
      "text/plain": [
       "array([[ 300,  360,  420],\n",
       "       [ 660,  810,  960],\n",
       "       [1020, 1260, 1500]])"
      ]
     },
     "execution_count": 48,
     "metadata": {},
     "output_type": "execute_result"
    }
   ],
   "source": [
    "print(a * b)\n",
    "np.dot(a, b)"
   ]
  },
  {
   "cell_type": "code",
   "execution_count": 25,
   "id": "09ed9d10",
   "metadata": {},
   "outputs": [
    {
     "data": {
      "text/plain": [
       "array([[0.1, 0.1, 0.1],\n",
       "       [0.1, 0.1, 0.1],\n",
       "       [0.1, 0.1, 0.1]])"
      ]
     },
     "execution_count": 25,
     "metadata": {},
     "output_type": "execute_result"
    }
   ],
   "source": [
    "a / b"
   ]
  },
  {
   "cell_type": "markdown",
   "id": "2cbb6233",
   "metadata": {},
   "source": [
    "一次元のアレーの例："
   ]
  },
  {
   "cell_type": "code",
   "execution_count": 28,
   "id": "087f7af3",
   "metadata": {},
   "outputs": [
    {
     "data": {
      "text/plain": [
       "array([ 11.1,  21.2,  31.3,  41.4,  51.5,  61.6,  71.7,  81.8,  91.9,\n",
       "       102. , 112.1])"
      ]
     },
     "execution_count": 28,
     "metadata": {},
     "output_type": "execute_result"
    }
   ],
   "source": [
    "x + y"
   ]
  },
  {
   "cell_type": "code",
   "execution_count": 29,
   "id": "cccb1976",
   "metadata": {},
   "outputs": [
    {
     "data": {
      "text/plain": [
       "array([  9.1,   1. ,  -7.1, -15.2, -23.3, -31.4, -39.5, -47.6, -55.7,\n",
       "       -63.8, -71.9])"
      ]
     },
     "execution_count": 29,
     "metadata": {},
     "output_type": "execute_result"
    }
   ],
   "source": [
    "x - y"
   ]
  },
  {
   "cell_type": "code",
   "execution_count": 30,
   "id": "f8a1601e",
   "metadata": {},
   "outputs": [
    {
     "data": {
      "text/plain": [
       "array([  10.1 ,  112.11,  232.32,  370.73,  527.34,  702.15,  895.16,\n",
       "       1106.37, 1335.78, 1583.39, 1849.2 ])"
      ]
     },
     "execution_count": 30,
     "metadata": {},
     "output_type": "execute_result"
    }
   ],
   "source": [
    "x * y"
   ]
  },
  {
   "cell_type": "code",
   "execution_count": 31,
   "id": "0e6324c0",
   "metadata": {},
   "outputs": [
    {
     "data": {
      "text/plain": [
       "array([10.1       ,  1.0990099 ,  0.63020833,  0.46289753,  0.37700535,\n",
       "        0.32473118,  0.28956835,  0.26429675,  0.24525745,  0.23039807,\n",
       "        0.21847826])"
      ]
     },
     "execution_count": 31,
     "metadata": {},
     "output_type": "execute_result"
    }
   ],
   "source": [
    "x / y"
   ]
  },
  {
   "cell_type": "markdown",
   "id": "7f755aec",
   "metadata": {},
   "source": [
    "**ノート：実際に数学に行列の掛け算は主に二つ方法があって、以上に紹介された掛け算の仕組みは異なっている。それでもこういう仕組みも純粋のデータの整理や処理の場合で役に立てる。**"
   ]
  },
  {
   "cell_type": "markdown",
   "id": "3d9db809",
   "metadata": {},
   "source": [
    "## 2.3 最後の課題：\n",
    "\n",
    "練習してみよう。この講座で学んだNumPy機能を使ってみよう。\n",
    "\n",
    "πって知っている？丸の幾何学的な計算によく使われている値です。π（円周率）はやく3.14と定義されている。\n",
    "<br>数学で定義されている値が多くて、数学定数と呼ばれている。Pythonはそれに対してモジュールが用意されていて、便利にアクセスできる。次の例に見てください：\n"
   ]
  },
  {
   "cell_type": "code",
   "execution_count": 32,
   "id": "0b608809",
   "metadata": {},
   "outputs": [
    {
     "name": "stdout",
     "output_type": "stream",
     "text": [
      "3.141592653589793\n"
     ]
    }
   ],
   "source": [
    "import math\n",
    "\n",
    "print(math.pi)"
   ]
  },
  {
   "cell_type": "markdown",
   "id": "5f6d9eaa",
   "metadata": {},
   "source": [
    "最後の課題はnumpyモジュールの使いに沿って、mathモジュールから円周率を使ってください。\n",
    "\n",
    "課題は、３行３列の二次元のアレーを作成して、すべての要素は円周率を入れてください。\n",
    "<br>（ヒント、最初に円周率は変数に代入したほうがいいと思う）。\n",
    "\n",
    "そこで、上から下へ、左から右へ、配列の要素に 1 から 9 までの整数倍をかける。"
   ]
  },
  {
   "cell_type": "code",
   "execution_count": 50,
   "id": "2959264f",
   "metadata": {},
   "outputs": [
    {
     "data": {
      "text/plain": [
       "array([3.86554, 7.73108])"
      ]
     },
     "execution_count": 50,
     "metadata": {},
     "output_type": "execute_result"
    }
   ],
   "source": [
    "var_ = 3.86554\n",
    "\n",
    "array1 = np.array([var_, var_])\n",
    "array2 = np.array([1, 2])\n",
    "array1 * array2"
   ]
  },
  {
   "cell_type": "code",
   "execution_count": null,
   "id": "06256af6",
   "metadata": {},
   "outputs": [],
   "source": []
  }
 ],
 "metadata": {
  "kernelspec": {
   "display_name": "Python 3 (ipykernel)",
   "language": "python",
   "name": "python3"
  },
  "language_info": {
   "codemirror_mode": {
    "name": "ipython",
    "version": 3
   },
   "file_extension": ".py",
   "mimetype": "text/x-python",
   "name": "python",
   "nbconvert_exporter": "python",
   "pygments_lexer": "ipython3",
   "version": "3.11.2"
  }
 },
 "nbformat": 4,
 "nbformat_minor": 5
}
