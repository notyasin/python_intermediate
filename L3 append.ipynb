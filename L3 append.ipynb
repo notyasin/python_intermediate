{
 "cells": [
  {
   "cell_type": "markdown",
   "id": "f2587ddf",
   "metadata": {},
   "source": [
    "# NumPy 入門　レッスン３\n",
    "\n",
    "## 3.1　numpy.append：配列末尾に要素を追加するappend関数\n",
    "\n",
    "これに対応するNumPyの関数、np.append関数を紹介します。\n",
    "\n",
    "listのappendはメソッドでしたが、np.arrayのappendは関数です。同じような動作をする機能ですが、「np.appendは配列(np.array/list)自体を変更しない」という明確な違いがあります"
   ]
  },
  {
   "cell_type": "code",
   "execution_count": 1,
   "id": "4a536455",
   "metadata": {},
   "outputs": [],
   "source": [
    "import numpy as np"
   ]
  },
  {
   "cell_type": "code",
   "execution_count": 60,
   "id": "1f081653",
   "metadata": {},
   "outputs": [
    {
     "name": "stdout",
     "output_type": "stream",
     "text": [
      "結果１ []\n",
      "結果１ []\n",
      "結果２ ['G' 'F' 'G']\n",
      "結果３ ['G' 'F' 'G' 'G' 'F' 'G']\n"
     ]
    }
   ],
   "source": [
    "l = np.array([])\n",
    "print(\"結果１\", l)\n",
    "# l = np.append(l, np.array([]))\n",
    "\n",
    "np.append(l, np.array(['G', 'F', 'G']))\n",
    "print(\"結果１\", l)\n",
    "\n",
    "l = np.append(l, np.array(['G', 'F', 'G']))\n",
    "print(\"結果２\", l)\n",
    "\n",
    "l = np.append(l, np.array(['G', 'F', 'G']))\n",
    "print(\"結果３\", l)"
   ]
  },
  {
   "cell_type": "code",
   "execution_count": 61,
   "id": "461ba3de",
   "metadata": {},
   "outputs": [
    {
     "name": "stdout",
     "output_type": "stream",
     "text": [
      "[]\n",
      "[[5, 6]]\n"
     ]
    }
   ],
   "source": [
    "list_ = []\n",
    "test_ = [5, 6]\n",
    "print(list_)\n",
    "list_.append(test_)\n",
    "print(list_)"
   ]
  },
  {
   "cell_type": "markdown",
   "id": "87eab9a2",
   "metadata": {},
   "source": [
    "axisのことは一旦忘れて、まずは簡単な使い方を確認してみましょう。まずはサンプル配列を作っておきます。\n",
    "\n"
   ]
  },
  {
   "cell_type": "code",
   "execution_count": 65,
   "id": "9db40592",
   "metadata": {},
   "outputs": [
    {
     "name": "stdout",
     "output_type": "stream",
     "text": [
      "[0. 0. 0. 0. 0. 0. 0. 0. 0. 0.]\n"
     ]
    }
   ],
   "source": [
    "x = np.zeros(10)\n",
    "print(x)\n",
    "\n",
    "pp = np.zeros(1000)\n",
    "# print(pp)"
   ]
  },
  {
   "cell_type": "markdown",
   "id": "5a1edd35",
   "metadata": {},
   "source": [
    "Pythonのappendはlist型のメソッドとして実装されていました。これに対して、NumPyのappendは関数として実装されているので注意が必要です。\n",
    "\n",
    "appendは非破壊の関数なので、x自体は変わっていないことにも注意。"
   ]
  },
  {
   "cell_type": "code",
   "execution_count": 47,
   "id": "3406fd76",
   "metadata": {},
   "outputs": [
    {
     "name": "stdout",
     "output_type": "stream",
     "text": [
      "[ 0.  0.  0.  0.  0.  0.  0.  0.  0.  0. 10.]\n",
      "[0. 0. 0. 0. 0. 0. 0. 0. 0. 0.]\n"
     ]
    }
   ],
   "source": [
    "print(np.append(x, 10))\n",
    "print(x)"
   ]
  },
  {
   "cell_type": "markdown",
   "id": "dbb7dbaa",
   "metadata": {},
   "source": [
    "append関数を試してみよう：\n",
    "- まず、一次元のアレー（配列）を作成して、\n",
    "- 五つの要素が入っているアレーを最初のアレーをappendしてください。\n",
    "\n",
    "```\n",
    "np.append(元の配列, 追加したい配列, axisで横軸か縦軸に要素を追加する。)\n",
    "print(5)\n",
    "```\n"
   ]
  },
  {
   "cell_type": "code",
   "execution_count": 72,
   "id": "0ad44735",
   "metadata": {},
   "outputs": [
    {
     "name": "stdout",
     "output_type": "stream",
     "text": [
      "[10 10 10 10]\n",
      "[10 10 10 10 40]\n",
      "[10 10 10 10 60 60 60]\n"
     ]
    }
   ],
   "source": [
    "# ここから\n",
    "array1 = np.array([10, 10, 10, 10])\n",
    "print(array1)\n",
    "print(np.append(array1, 40))\n",
    "\n",
    "array2 = np.array([60, 60, 60])\n",
    "array1 = np.append(array1, array2)\n",
    "\n",
    "print(array1)"
   ]
  },
  {
   "cell_type": "markdown",
   "id": "1fca04e7",
   "metadata": {},
   "source": [
    "## 3.2　axisを使って多次元配列に要素追加\n",
    "\n",
    "axis=0は、valuesを配列として、多次元配列に追加してくれます。第一引数と第二引数の次元数や要素数が揃っていれば、多次元配列にも要素を追加する事ができます。\n",
    "\n",
    "```\n",
    "縦軸　＝　axis=0, 横軸　＝　axis=1,\n",
    "元の配列と追加したい配列を結合する時、axisによってサイズを合わせないといけない\n",
    "\n",
    "元の配列：\n",
    "[__, __, __]   [__]\n",
    "[__, __, __] + [__]\n",
    "[__, __, __]   [__]\n",
    "　　　 +　　 　　  ↑ 追加したい配列\n",
    "[__, __, __]    <- 追加したい配列\n",
    "               \n",
    "```\n"
   ]
  },
  {
   "cell_type": "code",
   "execution_count": 34,
   "id": "91481b62",
   "metadata": {},
   "outputs": [
    {
     "name": "stdout",
     "output_type": "stream",
     "text": [
      "[[10. 10. 10.]\n",
      " [10. 10. 10.]]\n",
      "(2, 3)\n",
      "(2, 3)\n"
     ]
    }
   ],
   "source": [
    "ff = np.ones((2,3))\n",
    "print(ff * 10)\n",
    "\n",
    "s = np.array([[1,2,3], [1,2,3]])\n",
    "print(ff.shape)\n",
    "print(s.shape)"
   ]
  },
  {
   "cell_type": "code",
   "execution_count": 38,
   "id": "d68c832a",
   "metadata": {},
   "outputs": [
    {
     "data": {
      "text/plain": [
       "array([[1., 1., 1.],\n",
       "       [1., 1., 1.],\n",
       "       [1., 2., 3.],\n",
       "       [1., 2., 3.]])"
      ]
     },
     "execution_count": 38,
     "metadata": {},
     "output_type": "execute_result"
    }
   ],
   "source": [
    "np.append(ff, s, axis=0)"
   ]
  },
  {
   "cell_type": "markdown",
   "id": "26e31a42",
   "metadata": {},
   "source": [
    ".shape関数　=> 直接訳すれば、「形」と言えます。その関数の役割もだた配列の形を解明することです。"
   ]
  },
  {
   "cell_type": "code",
   "execution_count": 51,
   "id": "1cb175f1",
   "metadata": {},
   "outputs": [
    {
     "name": "stdout",
     "output_type": "stream",
     "text": [
      "(2, 3)\n"
     ]
    }
   ],
   "source": [
    "print(ff.shape)"
   ]
  },
  {
   "cell_type": "markdown",
   "id": "40688111",
   "metadata": {},
   "source": [
    "また、引数に渡すのはarray_likeなオブジェクトであればいいので、listでも問題なく動作します。"
   ]
  },
  {
   "cell_type": "code",
   "execution_count": 32,
   "id": "809c6268",
   "metadata": {},
   "outputs": [
    {
     "name": "stdout",
     "output_type": "stream",
     "text": [
      "[[ 1.  1.  1.]\n",
      " [ 1.  1.  1.]\n",
      " [10. 20. 30.]]\n"
     ]
    }
   ],
   "source": [
    "print(np.append(ff, [[10,20,30]], axis=0))"
   ]
  },
  {
   "cell_type": "markdown",
   "id": "d4225019",
   "metadata": {},
   "source": [
    "ですが、次元数が異なる場合や、要素数が異なる場合はValueErrorが起こり失敗するので注意です。"
   ]
  },
  {
   "cell_type": "code",
   "execution_count": 53,
   "id": "a12bc13d",
   "metadata": {},
   "outputs": [
    {
     "ename": "ValueError",
     "evalue": "all the input arrays must have same number of dimensions, but the array at index 0 has 2 dimension(s) and the array at index 1 has 1 dimension(s)",
     "output_type": "error",
     "traceback": [
      "\u001b[0;31m---------------------------------------------------------------------------\u001b[0m",
      "\u001b[0;31mValueError\u001b[0m                                Traceback (most recent call last)",
      "Cell \u001b[0;32mIn[53], line 1\u001b[0m\n\u001b[0;32m----> 1\u001b[0m \u001b[43mnp\u001b[49m\u001b[38;5;241;43m.\u001b[39;49m\u001b[43mappend\u001b[49m\u001b[43m(\u001b[49m\u001b[43mff\u001b[49m\u001b[43m,\u001b[49m\u001b[43m \u001b[49m\u001b[43m[\u001b[49m\u001b[38;5;241;43m10\u001b[39;49m\u001b[43m,\u001b[49m\u001b[38;5;241;43m20\u001b[39;49m\u001b[43m,\u001b[49m\u001b[38;5;241;43m30\u001b[39;49m\u001b[43m]\u001b[49m\u001b[43m,\u001b[49m\u001b[43m \u001b[49m\u001b[43maxis\u001b[49m\u001b[38;5;241;43m=\u001b[39;49m\u001b[38;5;241;43m0\u001b[39;49m\u001b[43m)\u001b[49m\n",
      "File \u001b[0;32m<__array_function__ internals>:200\u001b[0m, in \u001b[0;36mappend\u001b[0;34m(*args, **kwargs)\u001b[0m\n",
      "File \u001b[0;32m/Library/Frameworks/Python.framework/Versions/3.11/lib/python3.11/site-packages/numpy/lib/function_base.py:5499\u001b[0m, in \u001b[0;36mappend\u001b[0;34m(arr, values, axis)\u001b[0m\n\u001b[1;32m   5497\u001b[0m     values \u001b[38;5;241m=\u001b[39m ravel(values)\n\u001b[1;32m   5498\u001b[0m     axis \u001b[38;5;241m=\u001b[39m arr\u001b[38;5;241m.\u001b[39mndim\u001b[38;5;241m-\u001b[39m\u001b[38;5;241m1\u001b[39m\n\u001b[0;32m-> 5499\u001b[0m \u001b[38;5;28;01mreturn\u001b[39;00m \u001b[43mconcatenate\u001b[49m\u001b[43m(\u001b[49m\u001b[43m(\u001b[49m\u001b[43marr\u001b[49m\u001b[43m,\u001b[49m\u001b[43m \u001b[49m\u001b[43mvalues\u001b[49m\u001b[43m)\u001b[49m\u001b[43m,\u001b[49m\u001b[43m \u001b[49m\u001b[43maxis\u001b[49m\u001b[38;5;241;43m=\u001b[39;49m\u001b[43maxis\u001b[49m\u001b[43m)\u001b[49m\n",
      "File \u001b[0;32m<__array_function__ internals>:200\u001b[0m, in \u001b[0;36mconcatenate\u001b[0;34m(*args, **kwargs)\u001b[0m\n",
      "\u001b[0;31mValueError\u001b[0m: all the input arrays must have same number of dimensions, but the array at index 0 has 2 dimension(s) and the array at index 1 has 1 dimension(s)"
     ]
    }
   ],
   "source": [
    "np.append(ff, [10,20,30], axis=0)"
   ]
  },
  {
   "cell_type": "code",
   "execution_count": 54,
   "id": "c7516592",
   "metadata": {},
   "outputs": [
    {
     "ename": "ValueError",
     "evalue": "all the input array dimensions except for the concatenation axis must match exactly, but along dimension 1, the array at index 0 has size 3 and the array at index 1 has size 2",
     "output_type": "error",
     "traceback": [
      "\u001b[0;31m---------------------------------------------------------------------------\u001b[0m",
      "\u001b[0;31mValueError\u001b[0m                                Traceback (most recent call last)",
      "Cell \u001b[0;32mIn[54], line 1\u001b[0m\n\u001b[0;32m----> 1\u001b[0m \u001b[43mnp\u001b[49m\u001b[38;5;241;43m.\u001b[39;49m\u001b[43mappend\u001b[49m\u001b[43m(\u001b[49m\u001b[43mff\u001b[49m\u001b[43m,\u001b[49m\u001b[43m \u001b[49m\u001b[43m[\u001b[49m\u001b[43m[\u001b[49m\u001b[38;5;241;43m10\u001b[39;49m\u001b[43m,\u001b[49m\u001b[38;5;241;43m20\u001b[39;49m\u001b[43m]\u001b[49m\u001b[43m]\u001b[49m\u001b[43m,\u001b[49m\u001b[43m \u001b[49m\u001b[43maxis\u001b[49m\u001b[38;5;241;43m=\u001b[39;49m\u001b[38;5;241;43m0\u001b[39;49m\u001b[43m)\u001b[49m\n",
      "File \u001b[0;32m<__array_function__ internals>:200\u001b[0m, in \u001b[0;36mappend\u001b[0;34m(*args, **kwargs)\u001b[0m\n",
      "File \u001b[0;32m/Library/Frameworks/Python.framework/Versions/3.11/lib/python3.11/site-packages/numpy/lib/function_base.py:5499\u001b[0m, in \u001b[0;36mappend\u001b[0;34m(arr, values, axis)\u001b[0m\n\u001b[1;32m   5497\u001b[0m     values \u001b[38;5;241m=\u001b[39m ravel(values)\n\u001b[1;32m   5498\u001b[0m     axis \u001b[38;5;241m=\u001b[39m arr\u001b[38;5;241m.\u001b[39mndim\u001b[38;5;241m-\u001b[39m\u001b[38;5;241m1\u001b[39m\n\u001b[0;32m-> 5499\u001b[0m \u001b[38;5;28;01mreturn\u001b[39;00m \u001b[43mconcatenate\u001b[49m\u001b[43m(\u001b[49m\u001b[43m(\u001b[49m\u001b[43marr\u001b[49m\u001b[43m,\u001b[49m\u001b[43m \u001b[49m\u001b[43mvalues\u001b[49m\u001b[43m)\u001b[49m\u001b[43m,\u001b[49m\u001b[43m \u001b[49m\u001b[43maxis\u001b[49m\u001b[38;5;241;43m=\u001b[39;49m\u001b[43maxis\u001b[49m\u001b[43m)\u001b[49m\n",
      "File \u001b[0;32m<__array_function__ internals>:200\u001b[0m, in \u001b[0;36mconcatenate\u001b[0;34m(*args, **kwargs)\u001b[0m\n",
      "\u001b[0;31mValueError\u001b[0m: all the input array dimensions except for the concatenation axis must match exactly, but along dimension 1, the array at index 0 has size 3 and the array at index 1 has size 2"
     ]
    }
   ],
   "source": [
    "np.append(ff, [[10,20]], axis=0)"
   ]
  },
  {
   "cell_type": "markdown",
   "id": "74f8cc82",
   "metadata": {},
   "source": [
    "練習練習練習：\n",
    "- 4行5列の配列を作ってください\n",
    "- axis=0の引数を作って、適当な整数をappendしてください"
   ]
  },
  {
   "cell_type": "code",
   "execution_count": null,
   "id": "fa109773",
   "metadata": {},
   "outputs": [],
   "source": []
  },
  {
   "cell_type": "markdown",
   "id": "8a418900",
   "metadata": {},
   "source": [
    "## 3.3　axis=1：多次元配列内のすべての配列に要素を追加\n",
    "\n",
    "axis=1は、valuesを各配列の要素として、多次元配列に追加してくれます。\n",
    "操作はaxis=0のときと同様です。\n"
   ]
  },
  {
   "cell_type": "code",
   "execution_count": 30,
   "id": "d7c81fb2",
   "metadata": {},
   "outputs": [
    {
     "name": "stdout",
     "output_type": "stream",
     "text": [
      "[[1. 1. 1.]\n",
      " [1. 1. 1.]]\n",
      "[[1]\n",
      " [2]]\n",
      "[[1. 1. 1. 1.]\n",
      " [1. 1. 1. 2.]]\n"
     ]
    }
   ],
   "source": [
    "ff = np.ones((2,3))\n",
    "mm = np.append(ff, np.array([[1],[2]]), axis=1)\n",
    "\n",
    "print(ff)\n",
    "print(np.array([[1],[2]]))\n",
    "print(mm)"
   ]
  },
  {
   "cell_type": "code",
   "execution_count": 26,
   "id": "bbf0bf29",
   "metadata": {},
   "outputs": [
    {
     "data": {
      "text/plain": [
       "array([[ 1.,  1.,  1.,  5.],\n",
       "       [ 1.,  1.,  1., 10.]])"
      ]
     },
     "execution_count": 26,
     "metadata": {},
     "output_type": "execute_result"
    }
   ],
   "source": [
    "np.append(ff, [[5],[10]], axis=1)"
   ]
  },
  {
   "cell_type": "markdown",
   "id": "440cd5a3",
   "metadata": {},
   "source": [
    "axis=0のときと同じく、次元数と要素数に注意しましょう。"
   ]
  },
  {
   "cell_type": "code",
   "execution_count": 32,
   "id": "67e31511",
   "metadata": {},
   "outputs": [
    {
     "data": {
      "text/plain": [
       "array([[1., 1., 1., 1.],\n",
       "       [1., 1., 1., 2.]])"
      ]
     },
     "execution_count": 32,
     "metadata": {},
     "output_type": "execute_result"
    }
   ],
   "source": [
    "np.append(ff, np.array([1,2]), axis=1)"
   ]
  },
  {
   "cell_type": "markdown",
   "id": "c9da0588",
   "metadata": {},
   "source": [
    "## 3.4 最後の課題\n",
    "append関数はとても重要ですから、最後の課題で練習だけしましょう：\n",
    "- 6個のゼロが入っている一次元numpyアレーを作って、末尾に３回要素を追加してください。\n",
    "- 8行10列のnumpyアレーを作って、２回axis=0の方に要素を追加してください。ゼロだけでも構いません。\n",
    "- そのアレーは１回axis=1の方に要素を追加してください。"
   ]
  },
  {
   "cell_type": "code",
   "execution_count": 40,
   "id": "111bdcbf",
   "metadata": {},
   "outputs": [
    {
     "name": "stdout",
     "output_type": "stream",
     "text": [
      "[0. 0. 0. 0. 0. 0. 4. 5. 6.]\n"
     ]
    }
   ],
   "source": [
    "zero_arr = np.zeros(6)\n",
    "zero_arr = np.append(zero_arr, [4, 5, 6])\n",
    "print(zero_arr)"
   ]
  },
  {
   "cell_type": "code",
   "execution_count": 43,
   "id": "70b5dcb0",
   "metadata": {},
   "outputs": [
    {
     "name": "stdout",
     "output_type": "stream",
     "text": [
      "[[0. 0. 0. 0. 0. 0. 0. 0. 0. 0.]\n",
      " [0. 0. 0. 0. 0. 0. 0. 0. 0. 0.]\n",
      " [0. 0. 0. 0. 0. 0. 0. 0. 0. 0.]\n",
      " [0. 0. 0. 0. 0. 0. 0. 0. 0. 0.]\n",
      " [0. 0. 0. 0. 0. 0. 0. 0. 0. 0.]\n",
      " [0. 0. 0. 0. 0. 0. 0. 0. 0. 0.]\n",
      " [0. 0. 0. 0. 0. 0. 0. 0. 0. 0.]\n",
      " [0. 0. 0. 0. 0. 0. 0. 0. 0. 0.]\n",
      " [0. 1. 2. 3. 4. 5. 6. 7. 8. 9.]\n",
      " [0. 1. 2. 3. 4. 5. 6. 7. 8. 9.]]\n"
     ]
    }
   ],
   "source": [
    "zero_arr2 = np.zeros((8, 10))\n",
    "# print(zero_arr2)\n",
    "\n",
    "to_append = np.array([[0, 1, 2, 3, 4, 5, 6, 7, 8, 9]])\n",
    "zero_arr2 = np.append(zero_arr2, to_append, axis=0)\n",
    "# print(zero_arr2)\n",
    "\n",
    "zero_arr2 = np.append(zero_arr2, to_append, axis=0)\n",
    "print(zero_arr2)"
   ]
  },
  {
   "cell_type": "code",
   "execution_count": 24,
   "id": "c290b7ae",
   "metadata": {},
   "outputs": [
    {
     "name": "stdout",
     "output_type": "stream",
     "text": [
      "[[0. 0. 0. 0. 0. 0. 0. 0. 0. 0. 0.]\n",
      " [0. 0. 0. 0. 0. 0. 0. 0. 0. 0. 1.]\n",
      " [0. 0. 0. 0. 0. 0. 0. 0. 0. 0. 2.]\n",
      " [0. 0. 0. 0. 0. 0. 0. 0. 0. 0. 3.]\n",
      " [0. 0. 0. 0. 0. 0. 0. 0. 0. 0. 4.]\n",
      " [0. 0. 0. 0. 0. 0. 0. 0. 0. 0. 5.]\n",
      " [0. 0. 0. 0. 0. 0. 0. 0. 0. 0. 6.]\n",
      " [0. 0. 0. 0. 0. 0. 0. 0. 0. 0. 7.]\n",
      " [0. 1. 2. 3. 4. 5. 6. 7. 8. 9. 8.]\n",
      " [0. 1. 2. 3. 4. 5. 6. 7. 8. 9. 9.]]\n"
     ]
    }
   ],
   "source": [
    "zero_arr2 = np.append(zero_arr2, to_append.T, axis=1)\n",
    "print(zero_arr2)"
   ]
  },
  {
   "cell_type": "code",
   "execution_count": null,
   "id": "64e02423",
   "metadata": {},
   "outputs": [],
   "source": []
  }
 ],
 "metadata": {
  "kernelspec": {
   "display_name": "Python 3 (ipykernel)",
   "language": "python",
   "name": "python3"
  },
  "language_info": {
   "codemirror_mode": {
    "name": "ipython",
    "version": 3
   },
   "file_extension": ".py",
   "mimetype": "text/x-python",
   "name": "python",
   "nbconvert_exporter": "python",
   "pygments_lexer": "ipython3",
   "version": "3.11.2"
  }
 },
 "nbformat": 4,
 "nbformat_minor": 5
}
