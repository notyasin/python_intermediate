{
 "cells": [
  {
   "cell_type": "code",
   "execution_count": 2,
   "id": "4c9ea380",
   "metadata": {},
   "outputs": [
    {
     "name": "stdout",
     "output_type": "stream",
     "text": [
      "[[ 0.  0.  0.  0.  0.  0.  0.  0.  0.  0.  0.  0.  0.  0.  0.  0.  0.  0.\n",
      "   0.  0.  0.  0.  0.  0.  0.  0.  0.  0.  0.  0.]\n",
      " [85. 92. 78. 89. 95. 87. 92. 80. 79. 88. 90. 92. 86. 91. 82. 95. 88. 83.\n",
      "  87. 90. 94. 86. 81. 93. 89. 87. 85. 90. 88. 92.]\n",
      " [88. 95. 76. 92. 91. 83. 90. 78. 85. 89. 92. 84. 88. 90. 83. 92. 87. 84.\n",
      "  85. 89. 92. 81. 86. 88. 90. 84. 91. 89. 93. 90.]]\n",
      "[[173 187 154 181 186 170 182 158 164 177 182 176 174 181 165 187 175 167\n",
      "  172 179 186 167 167 181 179 171 176 179 181 182]]\n",
      "[[86.5 93.5 77.  90.5 93.  85.  91.  79.  82.  88.5 91.  88.  87.  90.5\n",
      "  82.5 93.5 87.5 83.5 86.  89.5 93.  83.5 83.5 90.5 89.5 85.5 88.  89.5\n",
      "  90.5 91. ]]\n",
      "[ 0. 95. 95.]\n",
      "[ 0. 78. 76.]\n"
     ]
    }
   ],
   "source": [
    "import numpy as np\n",
    "aggregate = np.zeros((1,30))\n",
    "# print(aggregate)\n",
    "exam1 = np.array([[85, 92, 78, 89, 95, 87, 92, 80, 79, 88, 90, 92, 86, 91, 82, 95, 88, 83, 87, 90, 94, 86, 81, 93, 89, 87, 85, 90, 88, 92]])\n",
    "exam2 = np.array([[88, 95, 76, 92, 91, 83, 90, 78, 85, 89, 92, 84, 88, 90, 83, 92, 87, 84, 85, 89, 92, 81, 86, 88, 90, 84, 91, 89, 93, 90]])\n",
    "\n",
    "entire_collection = np.append(aggregate, exam1, axis=0)\n",
    "entire_collection = np.append(entire_collection, exam2, axis=0)\n",
    "print(entire_collection)\n",
    "\n",
    "total_scores = exam1 + exam2\n",
    "print(total_scores)\n",
    "\n",
    "average_scores = total_scores / 2\n",
    "print(average_scores)\n",
    "\n",
    "max_scores = np.max(entire_collection, axis=1)\n",
    "print(max_scores)\n",
    "\n",
    "min_scores = np.min(entire_collection, axis=1)\n",
    "print(min_scores)"
   ]
  },
  {
   "cell_type": "code",
   "execution_count": 5,
   "id": "766633fb",
   "metadata": {},
   "outputs": [],
   "source": [
    "# print(scores)"
   ]
  },
  {
   "cell_type": "code",
   "execution_count": null,
   "id": "b7edfa56",
   "metadata": {},
   "outputs": [],
   "source": []
  }
 ],
 "metadata": {
  "kernelspec": {
   "display_name": "Python 3 (ipykernel)",
   "language": "python",
   "name": "python3"
  },
  "language_info": {
   "codemirror_mode": {
    "name": "ipython",
    "version": 3
   },
   "file_extension": ".py",
   "mimetype": "text/x-python",
   "name": "python",
   "nbconvert_exporter": "python",
   "pygments_lexer": "ipython3",
   "version": "3.11.2"
  }
 },
 "nbformat": 4,
 "nbformat_minor": 5
}
